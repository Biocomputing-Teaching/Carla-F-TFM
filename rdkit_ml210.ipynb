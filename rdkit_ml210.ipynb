{
 "cells": [
  {
   "attachments": {},
   "cell_type": "markdown",
   "metadata": {},
   "source": [
    "Fem un Rdkit amb la molècula ML210 ja que s'ha vist que és un inhibidor per la proteina GPX-4. \n",
    "\n",
    "https://www.selleckchem.com/products/ml210.html\n",
    "https://www.tocris.com/products/ml-210_6429\n",
    "\n",
    "smiles:\n",
    "https://www.ebi.ac.uk/chembl/compound_report_card/CHEMBL1951048/\n"
   ]
  },
  {
   "cell_type": "code",
   "execution_count": 20,
   "metadata": {},
   "outputs": [
    {
     "data": {
      "image/png": "[encoded data removed]",
      "text/plain": [
       "<rdkit.Chem.rdchem.Mol at 0x7fc1f0365120>"
      ]
     },
     "execution_count": 20,
     "metadata": {},
     "output_type": "execute_result"
    }
   ],
   "source": [
    "smiles_ml210 = \"Cc1onc(C(=O)N2CCN(C(c3ccc(Cl)cc3)c3ccc(Cl)cc3)CC2)c1[N+](=O)[O-]\"\n",
    "\n",
    "from rdkit import Chem\n",
    "molecule=Chem.MolFromSmiles(smiles_ml210)\n",
    "\n",
    "molecule\n"
   ]
  },
  {
   "cell_type": "code",
   "execution_count": 32,
   "metadata": {},
   "outputs": [],
   "source": [
    "mol = Chem.MolFromSmiles(\"Cc1onc(C(=O)N2CCN(C(c3ccc(Cl)cc3)c3ccc(Cl)cc3)CC2)c1[N+](=O)[O-]\")\n",
    "d = rdMolDraw2D.MolDraw2DCairo(250, 200) # or MolDraw2DSVG to get SVGs\n",
    "mol.GetAtomWithIdx(2).SetProp('atomNote', 'foo')\n",
    "mol.GetBondWithIdx(0).SetProp('bondNote', 'bar')\n",
    "d.drawOptions().addStereoAnnotation = True\n",
    "d.drawOptions().addAtomIndices = True\n",
    "d.DrawMolecule(mol)\n",
    "d.FinishDrawing()\n",
    "d.WriteDrawingText('atom_annotation_1.png') \n",
    "\n"
   ]
  },
  {
   "cell_type": "code",
   "execution_count": 64,
   "metadata": {},
   "outputs": [],
   "source": [
    "#Read a database sdf file\n",
    "\n",
    "from rdkit import Chem\n",
    "from rdkit.Chem import Crippen\n",
    "import pandas as pd\n",
    "\n",
    "database = Chem.SDMolSupplier('./data/Download_SDF_Covalent_Cysteine_Library_39301.sdf')\n"
   ]
  },
  {
   "cell_type": "code",
   "execution_count": 74,
   "metadata": {},
   "outputs": [],
   "source": [
    "#Create a dataframe\n",
    "\n",
    "data = [ ]\n",
    "\n",
    "for mol in database:\n",
    "    #Extract properties using RDKit functions\n",
    "    mol_name = mol.GetProp(\"Name\")\n",
    "    smiles = Chem.MolToSmiles(mol)\n",
    "    formula = Chem.rdMolDescriptors.CalcMolFormula(mol)\n",
    "    mw= Chem.rdMolDescriptors.CalcExactMolWt(mol)\n",
    "    logp= Crippen.MolLogP(mol)\n",
    "    num_hbd = Chem.rdMolDescriptors.CalcNumHBD(mol)\n",
    "    num_hba = Chem.rdMolDescriptors.CalcNumHBA(mol)\n",
    "\n",
    "    #Append results in a data list\n",
    "    data.append([smiles,mol_name,formula,mw,logp,num_hbd,num_hba])\n",
    "\n",
    "#We have a list with information. We Create a Dataframe:\n",
    "df= pd.DataFrame(data,columns=['SMILES','Name','Formula','MW','logP',\"H-bond donor\",\"H-bond acceptor\"])"
   ]
  },
  {
   "cell_type": "code",
   "execution_count": 75,
   "metadata": {},
   "outputs": [
    {
     "name": "stdout",
     "output_type": "stream",
     "text": [
      "                                                Name  \\\n",
      "0                    2-(2-phenyl-1-ethynyl)thiophene   \n",
      "1   2,4,6-triphenyl-1,3-diazabicyclo[3.1.0]hex-3-ene   \n",
      "2  4,4-diphenyl-2-[5-(2-phenylethynyl)furan-2-yl]...   \n",
      "3               3-(2-phenylethynyl)-1-benzothiophene   \n",
      "4  2,3-bis(3-{2-[4-(phenylsulfanyl)phenyl]-1-ethy...   \n",
      "5  2,3-bis{3-[2-(4-phenoxyphenyl)-1-ethynyl]pheny...   \n",
      "6                           (2-phenylethynyl)benzene   \n",
      "7   4,6-bis(2-phenyl-1-ethynyl)-2,1,3-benzoxadiazole   \n",
      "8        3-(2-phenyl-1-ethynyl)dibenzo[b,d]thiophene   \n",
      "9       3-phenyl-5-(2-phenylethynyl)-2,1-benzoxazole   \n",
      "\n",
      "                                              SMILES     Formula          MW  \\\n",
      "0                               C(#Cc1cccs1)c1ccccc1      C12H8S  184.034671   \n",
      "1            c1ccc(C2=NC(c3ccccc3)N3C2C3c2ccccc2)cc1    C22H18N2  310.146999   \n",
      "2  C(#Cc1ccc(C2Nc3ccccc3C(c3ccccc3)(c3ccccc3)O2)o...   C32H23NO2  453.172879   \n",
      "3                         C(#Cc1csc2ccccc12)c1ccccc1     C16H10S  234.050321   \n",
      "4  C(#Cc1cccc(-c2nc3ccccc3nc2-c2cccc(C#Cc3ccc(Sc4...  C48H30N2S2  698.185041   \n",
      "5  C(#Cc1cccc(-c2nc3ccccc3nc2-c2cccc(C#Cc3ccc(Oc4...  C48H30N2O2  666.230728   \n",
      "6                              C(#Cc1ccccc1)c1ccccc1      C14H10  178.078250   \n",
      "7            C(#Cc1cc(C#Cc2ccccc2)c2nonc2c1)c1ccccc1   C22H12N2O  320.094963   \n",
      "8                 C(#Cc1ccc2c(c1)sc1ccccc12)c1ccccc1     C20H12S  284.065971   \n",
      "9              C(#Cc1ccc2noc(-c3ccccc3)c2c1)c1ccccc1    C21H13NO  295.099714   \n",
      "\n",
      "      logP  H-bond donor  H-bond acceptor  \n",
      "0   3.1479             0                1  \n",
      "1   4.6136             0                2  \n",
      "2   7.1122             1                3  \n",
      "3   4.3011             0                1  \n",
      "4  12.0658             0                4  \n",
      "5  11.3480             0                4  \n",
      "6   3.0864             0                0  \n",
      "7   4.0224             0                3  \n",
      "8   5.4543             0                1  \n",
      "9   4.8946             0                2  \n"
     ]
    }
   ],
   "source": [
    "#Print information about database\n",
    "print(df.head(10))\n"
   ]
  }
 ],
 "metadata": {
  "kernelspec": {
   "display_name": "tfm",
   "language": "python",
   "name": "python3"
  },
  "language_info": {
   "codemirror_mode": {
    "name": "ipython",
    "version": 3
   },
   "file_extension": ".py",
   "mimetype": "text/x-python",
   "name": "python",
   "nbconvert_exporter": "python",
   "pygments_lexer": "ipython3",
   "version": "3.10.6"
  },
  "orig_nbformat": 4,
  "vscode": {
   "interpreter": {
    "hash": "14be8c6cb523b67fce4e72aa06dac016d7ee512de889c7e4e8a342b0dd502dda"
   }
  }
 },
 "nbformat": 4,
 "nbformat_minor": 2
}
