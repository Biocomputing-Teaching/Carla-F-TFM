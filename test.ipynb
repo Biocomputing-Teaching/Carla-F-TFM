{
 "cells": [
  {
   "cell_type": "code",
   "execution_count": 1,
   "metadata": {},
   "outputs": [
    {
     "name": "stdout",
     "output_type": "stream",
     "text": [
      "24\n",
      "Hola que tal\n"
     ]
    }
   ],
   "source": [
    "print(4*6)\n",
    "print(\"Hola que tal\")"
   ]
  }
 ],
 "metadata": {
  "kernelspec": {
   "display_name": "Python 3.9.12",
   "language": "python",
   "name": "python3"
  },
  "language_info": {
   "name": "python",
   "version": "3.9.12"
  },
  "orig_nbformat": 4,
  "vscode": {
   "interpreter": {
    "hash": "8c330e8a88d5c289bba1d7b823067fc299871643b368ca1f1341b9dfe2d8d9df"
   }
  }
 },
 "nbformat": 4,
 "nbformat_minor": 2
}
