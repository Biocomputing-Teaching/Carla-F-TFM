{
 "cells": [
  {
   "attachments": {},
   "cell_type": "markdown",
   "metadata": {},
   "source": [
    "Volem visualitzar la proteina GPX.\n",
    "\n",
    "Ens descarreguem l'estructura de GPX4 des de PDB. \n",
    "https://www.rcsb.org/structure/2OBI\n",
    "\n",
    "Ens ho baixem amb PDB format per poder-ho utilitzar amb OpenMM. \n",
    "\n",
    "a la terminal posar:\n",
    "openmm-setup\n",
    "\n"
   ]
  }
 ],
 "metadata": {
  "language_info": {
   "name": "python"
  },
  "orig_nbformat": 4
 },
 "nbformat": 4,
 "nbformat_minor": 2
}
