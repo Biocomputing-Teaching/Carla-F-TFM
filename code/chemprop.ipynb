{
 "cells": [
  {
   "cell_type": "code",
   "execution_count": 6,
   "metadata": {},
   "outputs": [
    {
     "name": "stdout",
     "output_type": "stream",
     "text": [
      "Permisos del archivo: 0644\n"
     ]
    }
   ],
   "source": [
    "import os \n",
    "script_path = \"./chempropprova.sh\"\n",
    "\n",
    "permisos = os.stat(script_path).st_mode\n",
    "permisos_octal = oct(permisos)[-4:]\n",
    "\n",
    "print(\"Permisos del archivo:\", permisos_octal)"
   ]
  },
  {
   "cell_type": "code",
   "execution_count": 31,
   "metadata": {},
   "outputs": [
    {
     "name": "stderr",
     "output_type": "stream",
     "text": [
      "--2023-07-13 13:07:20--  https://github.com/chemprop/chemprop/blob/master/predict.py\n",
      "Resolving github.com (github.com)... 140.82.121.4\n",
      "Connecting to github.com (github.com)|140.82.121.4|:443... connected.\n",
      "HTTP request sent, awaiting response... 200 OK\n",
      "Length: 6072 (5.9K) [text/plain]\n",
      "Saving to: '/Users/carlafeliu/Docs/Master/TFM/github/TFM/scripts_chemprop/predict.py'\n",
      "\n",
      "     0K .....                                                 100% 8.27M=0.001s\n",
      "\n",
      "2023-07-13 13:07:20 (8.27 MB/s) - '/Users/carlafeliu/Docs/Master/TFM/github/TFM/scripts_chemprop/predict.py' saved [6072/6072]\n",
      "\n",
      "--2023-07-13 13:07:20--  https://github.com/chemprop/chemprop/blob/master/interpret.py\n",
      "Resolving github.com (github.com)... 140.82.121.4\n",
      "Connecting to github.com (github.com)|140.82.121.4|:443... connected.\n",
      "HTTP request sent, awaiting response... 200 OK\n",
      "Length: 6082 (5.9K) [text/plain]\n",
      "Saving to: '/Users/carlafeliu/Docs/Master/TFM/github/TFM/scripts_chemprop/interpret.py'\n",
      "\n",
      "     0K .....                                                 100% 12.5M=0s\n",
      "\n",
      "2023-07-13 13:07:21 (12.5 MB/s) - '/Users/carlafeliu/Docs/Master/TFM/github/TFM/scripts_chemprop/interpret.py' saved [6082/6082]\n",
      "\n",
      "Command line\n",
      "python /Users/carlafeliu/Docs/Master/TFM/github/TFM/scripts_chemprop/train.py --data_path /Users/carlafeliu/Docs/Master/TFM/github/TFM/code/data_chemprop/chemprop_train.csv --dataset_type regression --save_dir /Users/carlafeliu/Docs/Master/TFM/github/TFM/df_checkpoint\n",
      "Args\n",
      "{'activation': 'ReLU',\n",
      " 'adding_h': False,\n",
      " 'aggregation': 'mean',\n",
      " 'aggregation_norm': 100,\n",
      " 'atom_descriptor_scaling': True,\n",
      " 'atom_descriptors': None,\n",
      " 'atom_descriptors_path': None,\n",
      " 'atom_descriptors_size': 0,\n",
      " 'atom_features_size': 0,\n",
      " 'atom_messages': False,\n",
      " 'batch_size': 50,\n",
      " 'bias': False,\n",
      " 'bias_solvent': False,\n",
      " 'bond_feature_scaling': True,\n",
      " 'bond_features_path': None,\n",
      " 'bond_features_size': 0,\n",
      " 'cache_cutoff': 10000,\n",
      " 'checkpoint_dir': None,\n",
      " 'checkpoint_frzn': None,\n",
      " 'checkpoint_path': None,\n",
      " 'checkpoint_paths': None,\n",
      " 'class_balance': False,\n",
      " 'config_path': None,\n",
      " 'crossval_index_dir': None,\n",
      " 'crossval_index_file': None,\n",
      " 'crossval_index_sets': None,\n",
      " 'cuda': False,\n",
      " 'data_path': '/Users/carlafeliu/Docs/Master/TFM/github/TFM/code/data_chemprop/chemprop_train.csv',\n",
      " 'data_weights_path': None,\n",
      " 'dataset_type': 'regression',\n",
      " 'depth': 3,\n",
      " 'depth_solvent': 3,\n",
      " 'device': device(type='cpu'),\n",
      " 'dropout': 0.0,\n",
      " 'empty_cache': False,\n",
      " 'ensemble_size': 1,\n",
      " 'epochs': 30,\n",
      " 'evidential_regularization': 0,\n",
      " 'explicit_h': False,\n",
      " 'extra_metrics': [],\n",
      " 'features_generator': None,\n",
      " 'features_only': False,\n",
      " 'features_path': None,\n",
      " 'features_scaling': True,\n",
      " 'features_size': None,\n",
      " 'ffn_hidden_size': 300,\n",
      " 'ffn_num_layers': 2,\n",
      " 'final_lr': 0.0001,\n",
      " 'folds_file': None,\n",
      " 'freeze_first_only': False,\n",
      " 'frzn_ffn_layers': 0,\n",
      " 'gpu': None,\n",
      " 'grad_clip': None,\n",
      " 'hidden_size': 300,\n",
      " 'hidden_size_solvent': 300,\n",
      " 'ignore_columns': None,\n",
      " 'init_lr': 0.0001,\n",
      " 'log_frequency': 10,\n",
      " 'loss_function': 'mse',\n",
      " 'max_data_size': None,\n",
      " 'max_lr': 0.001,\n",
      " 'metric': 'rmse',\n",
      " 'metrics': ['rmse'],\n",
      " 'minimize_score': True,\n",
      " 'mpn_shared': False,\n",
      " 'multiclass_num_classes': 3,\n",
      " 'no_atom_descriptor_scaling': False,\n",
      " 'no_bond_features_scaling': False,\n",
      " 'no_cache_mol': False,\n",
      " 'no_cuda': False,\n",
      " 'no_features_scaling': False,\n",
      " 'num_folds': 1,\n",
      " 'num_lrs': 1,\n",
      " 'num_tasks': 11,\n",
      " 'num_workers': 8,\n",
      " 'number_of_molecules': 1,\n",
      " 'overwrite_default_atom_features': False,\n",
      " 'overwrite_default_bond_features': False,\n",
      " 'phase_features_path': None,\n",
      " 'pytorch_seed': 0,\n",
      " 'quiet': False,\n",
      " 'reaction': False,\n",
      " 'reaction_mode': 'reac_diff',\n",
      " 'reaction_solvent': False,\n",
      " 'resume_experiment': False,\n",
      " 'save_dir': '/Users/carlafeliu/Docs/Master/TFM/github/TFM/df_checkpoint',\n",
      " 'save_preds': False,\n",
      " 'save_smiles_splits': False,\n",
      " 'seed': 0,\n",
      " 'separate_test_atom_descriptors_path': None,\n",
      " 'separate_test_bond_features_path': None,\n",
      " 'separate_test_features_path': None,\n",
      " 'separate_test_path': None,\n",
      " 'separate_test_phase_features_path': None,\n",
      " 'separate_val_atom_descriptors_path': None,\n",
      " 'separate_val_bond_features_path': None,\n",
      " 'separate_val_features_path': None,\n",
      " 'separate_val_path': None,\n",
      " 'separate_val_phase_features_path': None,\n",
      " 'show_individual_scores': False,\n",
      " 'smiles_columns': ['Smiles'],\n",
      " 'spectra_activation': 'exp',\n",
      " 'spectra_phase_mask_path': None,\n",
      " 'spectra_target_floor': 1e-08,\n",
      " 'split_key_molecule': 0,\n",
      " 'split_sizes': [0.8, 0.1, 0.1],\n",
      " 'split_type': 'random',\n",
      " 'target_columns': None,\n",
      " 'target_weights': None,\n",
      " 'task_names': ['MW',\n",
      "                'logP',\n",
      "                'H-bond donor',\n",
      "                'H-bond acceptor',\n",
      "                'Rotatable bonds',\n",
      "                'TPSA',\n",
      "                'Ring counts',\n",
      "                'Heavy atoms counts',\n",
      "                'Fraction CSP3',\n",
      "                'Balaban J Index',\n",
      "                'pchembl_value'],\n",
      " 'test': False,\n",
      " 'test_fold_index': None,\n",
      " 'train_data_size': None,\n",
      " 'undirected': False,\n",
      " 'use_input_features': False,\n",
      " 'val_fold_index': None,\n",
      " 'warmup_epochs': 2.0}\n",
      "Setting molecule featurization parameters to default.\n",
      "Loading data\n",
      "19182it [00:00, 69430.30it/s]\n",
      "100%|██████████| 19182/19182 [00:00<00:00, 123239.62it/s]\n",
      "100%|██████████| 19182/19182 [00:03<00:00, 5802.98it/s]\n",
      "Number of tasks = 11\n",
      "Fold 0\n",
      "Splitting data with seed 0\n",
      "Total size = 19,182 | train size = 15,345 | val size = 1,918 | test size = 1,919\n",
      "Fitting scaler\n",
      "Building model 0\n",
      "MoleculeModel(\n",
      "  (encoder): MPN(\n",
      "    (encoder): ModuleList(\n",
      "      (0): MPNEncoder(\n",
      "        (dropout_layer): Dropout(p=0.0, inplace=False)\n",
      "        (act_func): ReLU()\n",
      "        (W_i): Linear(in_features=147, out_features=300, bias=False)\n",
      "        (W_h): Linear(in_features=300, out_features=300, bias=False)\n",
      "        (W_o): Linear(in_features=433, out_features=300, bias=True)\n",
      "      )\n",
      "    )\n",
      "  )\n",
      "  (ffn): Sequential(\n",
      "    (0): Dropout(p=0.0, inplace=False)\n",
      "    (1): Linear(in_features=300, out_features=300, bias=True)\n",
      "    (2): ReLU()\n",
      "    (3): Dropout(p=0.0, inplace=False)\n",
      "    (4): Linear(in_features=300, out_features=11, bias=True)\n",
      "  )\n",
      ")\n",
      "Number of parameters = 358,211\n",
      "  0%|          | 0/30 [00:00<?, ?it/s]Epoch 0\n",
      "\n",
      "  0%|          | 0/307 [00:00<?, ?it/s]\u001b[A./chempropprova.sh: line 14: 87129 Segmentation fault: 11  python /Users/carlafeliu/Docs/Master/TFM/github/TFM/scripts_chemprop/train.py --data_path /Users/carlafeliu/Docs/Master/TFM/github/TFM/code/data_chemprop/chemprop_train.csv --dataset_type regression --save_dir /Users/carlafeliu/Docs/Master/TFM/github/TFM/df_checkpoint\n"
     ]
    },
    {
     "data": {
      "text/plain": [
       "CompletedProcess(args=['sh', './chempropprova.sh'], returncode=139)"
      ]
     },
     "execution_count": 31,
     "metadata": {},
     "output_type": "execute_result"
    },
    {
     "name": "stderr",
     "output_type": "stream",
     "text": [
      "/Users/carlafeliu/opt/anaconda3/envs/tfm/lib/python3.10/multiprocessing/resource_tracker.py:224: UserWarning: resource_tracker: There appear to be 36 leaked semaphore objects to clean up at shutdown\n",
      "  warnings.warn('resource_tracker: There appear to be %d '\n"
     ]
    }
   ],
   "source": [
    "import chemprop\n",
    "import subprocess\n",
    "\n",
    "#TRAIN\n",
    "script_path = \"./chempropprova.sh\"\n",
    "subprocess.run([\"sh\", script_path])\n",
    "\n",
    "\n",
    "#eje_script_sh(script_path)\n"
   ]
  },
  {
   "cell_type": "code",
   "execution_count": 1,
   "metadata": {},
   "outputs": [
    {
     "name": "stderr",
     "output_type": "stream",
     "text": [
      "/Users/carlafeliu/opt/anaconda3/envs/tfm/lib/python3.10/site-packages/tqdm/auto.py:22: TqdmWarning: IProgress not found. Please update jupyter and ipywidgets. See https://ipywidgets.readthedocs.io/en/stable/user_install.html\n",
      "  from .autonotebook import tqdm as notebook_tqdm\n"
     ]
    },
    {
     "name": "stdout",
     "output_type": "stream",
     "text": [
      "Loading training args\n",
      "Setting molecule featurization parameters to default.\n",
      "Loading data\n"
     ]
    },
    {
     "name": "stderr",
     "output_type": "stream",
     "text": [
      "19182it [00:00, 106551.24it/s]\n",
      "100%|██████████| 19182/19182 [00:00<00:00, 119080.77it/s]\n"
     ]
    },
    {
     "name": "stdout",
     "output_type": "stream",
     "text": [
      "Validating SMILES\n",
      "Test size = 19,182\n"
     ]
    },
    {
     "name": "stderr",
     "output_type": "stream",
     "text": [
      "  0%|          | 0/1 [00:00<?, ?it/s]"
     ]
    },
    {
     "name": "stdout",
     "output_type": "stream",
     "text": [
      "Loading pretrained parameter \"encoder.encoder.0.cached_zero_vector\".\n",
      "Loading pretrained parameter \"encoder.encoder.0.W_i.weight\".\n",
      "Loading pretrained parameter \"encoder.encoder.0.W_h.weight\".\n",
      "Loading pretrained parameter \"encoder.encoder.0.W_o.weight\".\n",
      "Loading pretrained parameter \"encoder.encoder.0.W_o.bias\".\n",
      "Loading pretrained parameter \"ffn.1.weight\".\n",
      "Loading pretrained parameter \"ffn.1.bias\".\n",
      "Loading pretrained parameter \"ffn.4.weight\".\n",
      "Loading pretrained parameter \"ffn.4.bias\".\n"
     ]
    },
    {
     "name": "stderr",
     "output_type": "stream",
     "text": [
      "\n",
      "  0%|          | 0/384 [00:00<?, ?it/s]\u001b[A/Users/carlafeliu/Docs/Master/TFM/github/TFM/code/chemproppredict.sh: line 1: 93191 Segmentation fault: 11  chemprop_predict --test_path /Users/carlafeliu/Docs/Master/TFM/github/TFM/code/data_chemprop/chemprop_train.csv --checkpoint_dir /Users/carlafeliu/Docs/Master/TFM/github/TFM/df_checkpoint --preds_path /Users/carlafeliu/Docs/Master/TFM/github/TFM/df_checkpoint/preds1.csv\n"
     ]
    },
    {
     "data": {
      "text/plain": [
       "CompletedProcess(args=['sh', '/Users/carlafeliu/Docs/Master/TFM/github/TFM/code/chemproppredict.sh'], returncode=139)"
      ]
     },
     "execution_count": 1,
     "metadata": {},
     "output_type": "execute_result"
    },
    {
     "name": "stderr",
     "output_type": "stream",
     "text": [
      "Traceback (most recent call last):\n",
      "  File \"<string>\", line 1, in <module>\n",
      "  File \"/Users/carlafeliu/opt/anaconda3/envs/tfm/lib/python3.10/multiprocessing/spawn.py\", line 116, in spawn_main\n",
      "    exitcode = _main(fd, parent_sentinel)\n",
      "  File \"/Users/carlafeliu/opt/anaconda3/envs/tfm/lib/python3.10/multiprocessing/spawn.py\", line 126, in _main\n",
      "    self = reduction.pickle.load(from_parent)\n",
      "_pickle.UnpicklingError: pickle data was truncated\n",
      "/Users/carlafeliu/opt/anaconda3/envs/tfm/lib/python3.10/multiprocessing/resource_tracker.py:224: UserWarning: resource_tracker: There appear to be 12 leaked semaphore objects to clean up at shutdown\n",
      "  warnings.warn('resource_tracker: There appear to be %d '\n"
     ]
    }
   ],
   "source": [
    "#import os\n",
    "#os.chdir('/Users/carlafeliu/Docs/Master/TFM/chemprop')\n",
    "\n",
    "import chemprop\n",
    "import subprocess\n",
    "\n",
    "\n",
    "\n",
    "#PREDICT\n",
    "\n",
    "script_path = \"/Users/carlafeliu/Docs/Master/TFM/github/TFM/code/chemproppredict.sh\"\n",
    "subprocess.run([\"sh\", script_path])"
   ]
  }
 ],
 "metadata": {
  "kernelspec": {
   "display_name": "Python 3",
   "language": "python",
   "name": "python3"
  },
  "language_info": {
   "codemirror_mode": {
    "name": "ipython",
    "version": 3
   },
   "file_extension": ".py",
   "mimetype": "text/x-python",
   "name": "python",
   "nbconvert_exporter": "python",
   "pygments_lexer": "ipython3",
   "version": "3.10.11"
  },
  "orig_nbformat": 4
 },
 "nbformat": 4,
 "nbformat_minor": 2
}
