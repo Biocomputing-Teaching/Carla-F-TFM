{
 "cells": [
  {
   "attachments": {},
   "cell_type": "markdown",
   "metadata": {},
   "source": [
    "Ens hem baixat les dades de zinc15; 2D, smiles, React.standard. Les dades estan en un fitxer on les linies són codis url per baixar els smiles de totes les molècules. El que hem de fer és llegir una per una aquestes linies i descarregar-ho i enganxar-ho en un fitxer. El nostre fitxer de sortida on hi haurà tots els SMILES es diu Smiles_total.csv."
   ]
  },
  {
   "cell_type": "code",
   "execution_count": null,
   "metadata": {},
   "outputs": [],
   "source": [
    "import requests\n",
    "\n",
    "urls = open(\"ZINC-downloader-2D-smi.uri\",\"r\")\n",
    "lines = urls.readlines() #llegeix les linies\n",
    "fh= open(\"smiles_totalzinc20.csv\",\"a\")\n",
    "\n",
    "for line in lines:\n",
    "    line = line.rstrip()\n",
    "    request = requests.get(line)\n",
    "    fh.write(request.text)\n",
    "fh.close()"
   ]
  },
  {
   "attachments": {},
   "cell_type": "markdown",
   "metadata": {},
   "source": [
    "SMILES is a standard way to specify the molecular structure of a compound into a simple string representation. "
   ]
  },
  {
   "attachments": {},
   "cell_type": "markdown",
   "metadata": {},
   "source": [
    "chemprop amb les dades que tenim:\n",
    "\n",
    "Provem amb el resultat que hem obtingut dels smiles de zinc, fer chemprop train:\n",
    "\n",
    "python train.py --data_path /Users/carlafeliu/Docs/Master/TFM/github/TFM/smiles_totalzinc20.csv --dataset_type classification --save_dir result\n",
    "\n",
    "chemprop_predict --data_path /Users/carlafeliu/Docs/Master/TFM/github/TFM/smiles_totalzinc20.csv --checkpoint_dir /Users/carlafeliu/Docs/Master/TFM/github/TFM/result --preds_path /Users/carlafeliu/Docs/Master/TFM/github/TFM/preds.csv\n",
    "\n",
    "nohub chemprop_interpret --data_path /Users/carlafeliu/Docs/Master/TFM/github/TFM/smiles_totalzinc20.csv --checkpoint_dir /Users/carlafeliu/Docs/Master/TFM/github/TFM/result/fold_0/ --property_id 1 > /Users/carlafeliu/Docs/Master/TFM/github/TFM/interpret.log &"
   ]
  }
 ],
 "metadata": {
  "kernelspec": {
   "display_name": "tfm",
   "language": "python",
   "name": "python3"
  },
  "language_info": {
   "codemirror_mode": {
    "name": "ipython",
    "version": 3
   },
   "file_extension": ".py",
   "mimetype": "text/x-python",
   "name": "python",
   "nbconvert_exporter": "python",
   "pygments_lexer": "ipython3",
   "version": "3.10.6"
  },
  "orig_nbformat": 4,
  "vscode": {
   "interpreter": {
    "hash": "14be8c6cb523b67fce4e72aa06dac016d7ee512de889c7e4e8a342b0dd502dda"
   }
  }
 },
 "nbformat": 4,
 "nbformat_minor": 2
}
