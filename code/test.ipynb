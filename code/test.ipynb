{
 "cells": [
  {
   "attachments": {},
   "cell_type": "markdown",
   "metadata": {},
   "source": [
    "Com actua GPX:\n",
    "\n",
    "L'activació de macròfags, neutròfils i epiteli genera radicals de superòxid ( O2-) que poden reaccionar amb l'òxid nítric (NO) per formar molècules reactives de peròxinitrit (ONOO-) o convertir-se en peròxid d'hidrogen (H2O2) sota l'influència de SOD. L'H2O2 és reduit enzimàticament per els enzims glutatio peroxidasa (GPXs), i per la catalasa (CAT). La GPX-1 utilitza GSH com a cofactor per reduir el H2O2, la qual cosa porta a la formació de glutatió oxidat (GSSG), que pot ser reduit a GSH per la glutatió reductasa (GR). Les ROS O2-, ONOO-, H2O2 i -OH poden causar inflamació pulmonar, danys en el DNA, desnaturalització de proteínes, peroxidació lipídica i enfisema. \n",
    "\n",
    "# Imatge a Imatges (Production_ROS)\n",
    "\n",
    "Family GPX:\n",
    "\n",
    "Les GPX son una familia d'enzims antioxidants dependents i independents del seleni que catalitzen la reducció del H2O2 perjudicial i una gran varietat de peròxids (així com peroxids del DNA i peròxids lipídics) en aigua i alcohols, utilitzant GSH com a reductor i així protegint les biomembranes i els components cel·lulars davant l'estrés oxidatiu. \n",
    "Tipos de GPX que contene Cys:\n",
    "- GPx1, GPx2, \n",
    "- GPx3, GPx5, GPx6\n",
    "- GPx4, GPx7, GPx8\n",
    "El nivell d'expressió de cada isoforma depén del tipo de teixit. \n",
    "\n",
    "\n",
    "\n",
    "\n",
    "\n",
    "\n",
    "sources:\n",
    "\n",
    "https://github.com/jscavetta95/Machine-learning-approaches-to-select-candidate-molecules/blob/master/Paper.pdf\n"
   ]
  }
 ],
 "metadata": {
  "kernelspec": {
   "display_name": "Python 3.9.12",
   "language": "python",
   "name": "python3"
  },
  "language_info": {
   "codemirror_mode": {
    "name": "ipython",
    "version": 3
   },
   "file_extension": ".py",
   "mimetype": "text/x-python",
   "name": "python",
   "nbconvert_exporter": "python",
   "pygments_lexer": "ipython3",
   "version": "3.10.11"
  },
  "orig_nbformat": 4,
  "vscode": {
   "interpreter": {
    "hash": "8c330e8a88d5c289bba1d7b823067fc299871643b368ca1f1341b9dfe2d8d9df"
   }
  }
 },
 "nbformat": 4,
 "nbformat_minor": 2
}
