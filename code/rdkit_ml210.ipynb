{
 "cells": [
  {
   "attachments": {},
   "cell_type": "markdown",
   "metadata": {},
   "source": [
    "inhibitors : https://www.medchemexpress.com/Targets/Glutathione%20Peroxidase.html\n",
    "\n",
    "\n",
    "Articles : \n",
    "- Selective covalent targeting of GPX4\n",
    "- Diacylfurozans are masked nitrile oxides that inhibit GPX4 covalently\n",
    "- Targeting a Therapy-Resistant Cancer Cell State Using Masked Electrophiles as GPX4 Inhibitors\n",
    "- Medicinal Research Reviews - 2023 - Koeberle - Ferroptosis%E2%80%90modulating small molecules for targeting drug%E2%80%90resistant cancer \n",
    "\n",
    "Descarreguem una llibreria de ChemDiv \"Cyteine Targeted Covalent Library\". \n",
    "\n",
    "Imatge de inhibidor covalent ML210:   https://www.nature.com/articles/s41589-020-0501-5\n",
    "\n"
   ]
  },
  {
   "cell_type": "code",
   "execution_count": 77,
   "metadata": {},
   "outputs": [
    {
     "data": {
      "image/png": "[encoded data removed]",
      "text/plain": [
       "<rdkit.Chem.rdchem.Mol at 0x7fb0898fd9c0>"
      ]
     },
     "execution_count": 77,
     "metadata": {},
     "output_type": "execute_result"
    }
   ],
   "source": [
    "\n",
    "smiles_ml210 = \"Cc1onc(C(=O)N2CCN(C(c3ccc(Cl)cc3)c3ccc(Cl)cc3)CC2)c1[N+](=O)[O-]\"\n",
    "\n",
    "from rdkit import Chem\n",
    "molecule=Chem.MolFromSmiles(smiles_ml210)\n",
    "\n",
    "molecule"
   ]
  },
  {
   "cell_type": "code",
   "execution_count": 2,
   "metadata": {},
   "outputs": [],
   "source": [
    "mol = Chem.MolFromSmiles(\"Cc1onc(C(=O)N2CCN(C(c3ccc(Cl)cc3)c3ccc(Cl)cc3)CC2)c1[N+](=O)[O-]\")\n",
    "d = Chem.Draw.rdMolDraw2D.MolDraw2DCairo(250, 200) # or MolDraw2DSVG to get SVGs\n",
    "mol.GetAtomWithIdx(2).SetProp('atomNote', 'foo')\n",
    "mol.GetBondWithIdx(0).SetProp('bondNote', 'bar')\n",
    "d.drawOptions().addStereoAnnotation = True\n",
    "d.drawOptions().addAtomIndices = True\n",
    "d.DrawMolecule(mol)\n",
    "d.FinishDrawing()\n",
    "d.WriteDrawingText('../output/atom_annotation_1.png') \n",
    "\n"
   ]
  },
  {
   "cell_type": "code",
   "execution_count": 89,
   "metadata": {},
   "outputs": [],
   "source": [
    "#Read a database sdf file\n",
    "\n",
    "from rdkit import Chem\n",
    "from rdkit.Chem import SDMolSupplier\n",
    "import pandas as pd\n",
    "\n",
    "import os, requests\n",
    "path = '/Users/carlafeliu/Docs/Master/TFM/github'\n",
    "sdffile='Download_SDF_Covalent_Cysteine_Library_39301.sdf'\n",
    "localsdffile = os.path.join(path, sdffile)\n",
    "if not os.path.exists(localsdffile):\n",
    "    url = 'https://www.chemdiv.com/catalog/focused-and-targeted-libraries/cysteine-targeted-covalent-library/'+sdffile\n",
    "    response = requests.get(url)\n",
    "    with open(localsdffile, 'wb') as f:\n",
    "        f.write(response.content)\n",
    "        \n",
    "\n",
    "database = Chem.SDMolSupplier('../../../Download_SDF_Covalent_Cysteine_Library_39301.sdf')\n",
    "\n",
    "#Repassar el codi ja que no em baixa la base de dades igual que quan ho faig manualment i per tant el codi de després no funciona.\n",
    "\n"
   ]
  },
  {
   "cell_type": "code",
   "execution_count": 99,
   "metadata": {},
   "outputs": [],
   "source": [
    "#Create a dataframe\n",
    "from rdkit import Chem\n",
    "from rdkit.Chem import Crippen, Descriptors\n",
    "#from rdkit_forchemprop import features (tenim aquesta funció en un altre document, mirar que hi passa)\n",
    "\n",
    "def features(mol,data):\n",
    "    #Extract properties using RDKit functions\n",
    "    mol_name = mol.GetProp('Name')\n",
    "    smiles = Chem.MolToSmiles(mol)\n",
    "    formula = Chem.rdMolDescriptors.CalcMolFormula(mol)\n",
    "    mw= Chem.rdMolDescriptors.CalcExactMolWt(mol)\n",
    "    logp= Crippen.MolLogP(mol)\n",
    "    num_hbd = Chem.rdMolDescriptors.CalcNumHBD(mol)\n",
    "    num_hba = Chem.rdMolDescriptors.CalcNumHBA(mol)\n",
    "    tpsa = Chem.rdMolDescriptors.CalcTPSA(mol)\n",
    "    num_rb = Chem.rdMolDescriptors.CalcNumRotatableBonds(mol)\n",
    "\n",
    "    #Append results in a data list\n",
    "    data.append([smiles,mol_name,formula,mw,logp,num_hbd,num_hba,tpsa, num_rb])\n",
    "    return\n",
    "\n",
    "data = [ ]\n",
    "\n",
    "for mol in database:\n",
    "    features(mol,data)\n",
    "\n",
    "#We have a list with information. Creation of a Dataframe:\n",
    "df= pd.DataFrame(data,columns=['SMILES','Name','Formula','MW','logP',\"H-bond donor\",\"H-bond acceptor\",\"TPSA\",\"Rotatable bonds\"])"
   ]
  },
  {
   "cell_type": "code",
   "execution_count": 88,
   "metadata": {},
   "outputs": [
    {
     "name": "stdout",
     "output_type": "stream",
     "text": [
      "                                              SMILES  \\\n",
      "0                               C(#Cc1cccs1)c1ccccc1   \n",
      "1            c1ccc(C2=NC(c3ccccc3)N3C2C3c2ccccc2)cc1   \n",
      "2  C(#Cc1ccc(C2Nc3ccccc3C(c3ccccc3)(c3ccccc3)O2)o...   \n",
      "3                         C(#Cc1csc2ccccc12)c1ccccc1   \n",
      "4  C(#Cc1cccc(-c2nc3ccccc3nc2-c2cccc(C#Cc3ccc(Sc4...   \n",
      "5  C(#Cc1cccc(-c2nc3ccccc3nc2-c2cccc(C#Cc3ccc(Oc4...   \n",
      "6                              C(#Cc1ccccc1)c1ccccc1   \n",
      "7            C(#Cc1cc(C#Cc2ccccc2)c2nonc2c1)c1ccccc1   \n",
      "8                 C(#Cc1ccc2c(c1)sc1ccccc12)c1ccccc1   \n",
      "9              C(#Cc1ccc2noc(-c3ccccc3)c2c1)c1ccccc1   \n",
      "\n",
      "                                                Name     Formula          MW  \\\n",
      "0                    2-(2-phenyl-1-ethynyl)thiophene      C12H8S  184.034671   \n",
      "1   2,4,6-triphenyl-1,3-diazabicyclo[3.1.0]hex-3-ene    C22H18N2  310.146999   \n",
      "2  4,4-diphenyl-2-[5-(2-phenylethynyl)furan-2-yl]...   C32H23NO2  453.172879   \n",
      "3               3-(2-phenylethynyl)-1-benzothiophene     C16H10S  234.050321   \n",
      "4  2,3-bis(3-{2-[4-(phenylsulfanyl)phenyl]-1-ethy...  C48H30N2S2  698.185041   \n",
      "5  2,3-bis{3-[2-(4-phenoxyphenyl)-1-ethynyl]pheny...  C48H30N2O2  666.230728   \n",
      "6                           (2-phenylethynyl)benzene      C14H10  178.078250   \n",
      "7   4,6-bis(2-phenyl-1-ethynyl)-2,1,3-benzoxadiazole   C22H12N2O  320.094963   \n",
      "8        3-(2-phenyl-1-ethynyl)dibenzo[b,d]thiophene     C20H12S  284.065971   \n",
      "9       3-phenyl-5-(2-phenylethynyl)-2,1-benzoxazole    C21H13NO  295.099714   \n",
      "\n",
      "      logP  H-bond donor  H-bond acceptor   TPSA  Rotatable bonds  \n",
      "0   3.1479             0                1   0.00                0  \n",
      "1   4.6136             0                2  15.37                3  \n",
      "2   7.1122             1                3  34.40                3  \n",
      "3   4.3011             0                1   0.00                0  \n",
      "4  12.0658             0                4  25.78                6  \n",
      "5  11.3480             0                4  44.24                6  \n",
      "6   3.0864             0                0   0.00                0  \n",
      "7   4.0224             0                3  38.92                0  \n",
      "8   5.4543             0                1   0.00                0  \n",
      "9   4.8946             0                2  26.03                1  \n"
     ]
    }
   ],
   "source": [
    "#Print information about database\n",
    "print(df.head(10))\n"
   ]
  },
  {
   "attachments": {},
   "cell_type": "markdown",
   "metadata": {},
   "source": [
    "Important molecular descriptors to find an inhibitor: \n",
    "- Molecular weight (MW): Generally, the smallest molecules can easily penetrate the cell membrane and reach the target enzyme.\n",
    "- Hydrogen bond donor and acceptor (HBD,HBA): Many inhibitors interact with the protein through hydrogen bounds.\n",
    "- Lipophilicity (logP): With moderate logP (low), can easily penetrate the cell membrane while also interacting with the hydrophobic residues in th enzyme active site. \n",
    "- Polar surface area (PSA): High PSA may hinder (dificultar) the entry of compounds in the cell, and very small PSA may reduce the potency of inhibitors. Moderate is preferred. \n",
    "- Electrostatic potential (ESP) Van der Waals surface area (VSA): are usually used to analyse the shape and charge distribution of the molecule, which can affect the binding affinity of inhibitors to the GPX enzyme. \n",
    "- Number of rotatable bonds: Predicting the conformational flexibility of a molecule, that can affect its ability to bind to a target. "
   ]
  },
  {
   "attachments": {},
   "cell_type": "markdown",
   "metadata": {},
   "source": [
    "Treiem la informació de les molècules que hem vist que inhibien GPX. Fem RDkit. \n",
    "\n",
    "- Tiopronin\n",
    "https://go.drugbank.com/drugs/DB06823\n",
    "https://www.ebi.ac.uk/chembl/compound_report_card/CHEMBL1314/\n",
    "\n",
    "- ML210\n",
    "https://www.ebi.ac.uk/chembl/compound_report_card/CHEMBL1951048/\n",
    "\n",
    "https://www.selleckchem.com/products/ml210.html\n",
    "https://www.tocris.com/products/ml-210_6429\n",
    "\n",
    "- RSL3\n",
    "https://www.ebi.ac.uk/chembl/compound_report_card/CHEMBL4747331/\n",
    "\n",
    "\n",
    "Podem baixar la base de dades de chembl i buscar molecules amb aquestes característiques??\n",
    "\n",
    "Per baixar bbdd Chembl:\n",
    "https://ftp.ebi.ac.uk/pub/databases/chembl/ChEMBLdb/latest/\n",
    "\n",
    "https://www.chemdiv.com/catalog/focused-and-targeted-libraries/cysteine-targeted-covalent-library/\n",
    "\n",
    "\n"
   ]
  },
  {
   "cell_type": "code",
   "execution_count": 78,
   "metadata": {},
   "outputs": [
    {
     "name": "stdout",
     "output_type": "stream",
     "text": [
      "Molecular weight: 163.198\n",
      "LogP: -0.49450000000000044\n",
      "H-bond donor: 3\n",
      "H-bond acceptor: 3\n",
      "Polar surface area: 66.4\n"
     ]
    },
    {
     "data": {
      "image/png": "[encoded data removed]",
      "text/plain": [
       "<rdkit.Chem.rdchem.Mol at 0x7fb08beeaaa0>"
      ]
     },
     "execution_count": 78,
     "metadata": {},
     "output_type": "execute_result"
    }
   ],
   "source": [
    "#Extreure informacio de molecules concretes:\n",
    "# https://go.drugbank.com/drugs/DB06823\n",
    "# Tiopronin\n",
    "\n",
    "print('TIOPRONIN')\n",
    "\n",
    "from rdkit import Chem\n",
    "from rdkit.Chem import Descriptors\n",
    "\n",
    "tiopronine_smiles = 'CC(S)C(=O)NCC(O)=O'\n",
    "mol_tiop = Chem.MolFromSmiles(tiopronine_smiles)\n",
    "\n",
    "tmw = Descriptors.MolWt(mol_tiop)\n",
    "tlogp = Descriptors.MolLogP(mol_tiop)\n",
    "tnum_hbd = Descriptors.NumHDonors(mol_tiop)\n",
    "tnum_hba = Descriptors.NumHAcceptors(mol_tiop)\n",
    "tpsa = Descriptors.TPSA(mol_tiop)\n",
    "\n",
    "print(f'Molecular weight: {tmw}')\n",
    "print(f'LogP: {tlogp}')\n",
    "print(f'H-bond donor: {tnum_hbd}')\n",
    "print(f'H-bond acceptor: {tnum_hba}')\n",
    "print(f'Polar surface area: {tpsa}')\n",
    "\n",
    "mol_tiop\n",
    "\n"
   ]
  },
  {
   "cell_type": "code",
   "execution_count": 80,
   "metadata": {},
   "outputs": [
    {
     "name": "stdout",
     "output_type": "stream",
     "text": [
      "Molecular weight: 475.3320000000002\n",
      "LogP: 4.745420000000005\n",
      "H-bond donor: 0\n",
      "H-bond acceptor: 6\n",
      "Polar surface area: 66.4\n"
     ]
    },
    {
     "data": {
      "image/png": "[encoded data removed]",
      "text/plain": [
       "<rdkit.Chem.rdchem.Mol at 0x7fb08bee9720>"
      ]
     },
     "execution_count": 80,
     "metadata": {},
     "output_type": "execute_result"
    }
   ],
   "source": [
    "print('ML210')\n",
    "smiles_ml210 = \"Cc1onc(C(=O)N2CCN(C(c3ccc(Cl)cc3)c3ccc(Cl)cc3)CC2)c1[N+](=O)[O-]\"\n",
    "\n",
    "#Fer servir la funció features\n",
    "\n",
    "from rdkit import Chem\n",
    "mol_ml210=Chem.MolFromSmiles(smiles_ml210)\n",
    "\n",
    "ml210mw = Descriptors.MolWt(mol_ml210)\n",
    "ml210logp = Descriptors.MolLogP(mol_ml210)\n",
    "ml210num_hbd = Descriptors.NumHDonors(mol_ml210)\n",
    "ml210num_hba = Descriptors.NumHAcceptors(mol_ml210)\n",
    "ml210psa = Descriptors.TPSA(mol_ml210)\n",
    "\n",
    "print(f'Molecular weight: {ml210mw}')\n",
    "print(f'LogP: {ml210logp}')\n",
    "print(f'H-bond donor: {ml210num_hbd}')\n",
    "print(f'H-bond acceptor: {ml210num_hba}')\n",
    "print(f'Polar surface area: {ml210psa}')\n",
    "\n",
    "mol_ml210"
   ]
  },
  {
   "cell_type": "code",
   "execution_count": 92,
   "metadata": {},
   "outputs": [
    {
     "name": "stdout",
     "output_type": "stream",
     "text": [
      "RSL3\n",
      "Molecular weight: 440.88300000000015\n",
      "LogP: 3.2090000000000014\n",
      "H-bond donor: 1\n",
      "H-bond acceptor: 5\n",
      "Polar surface area: 88.69999999999999\n"
     ]
    },
    {
     "data": {
      "image/png": "[encoded data removed]",
      "text/plain": [
       "<rdkit.Chem.rdchem.Mol at 0x7fb0891cee60>"
      ]
     },
     "execution_count": 92,
     "metadata": {},
     "output_type": "execute_result"
    }
   ],
   "source": [
    "print('RSL3')\n",
    "\n",
    "smiles_rsl3 = 'COC(=O)c1ccc([C@H]2c3[nH]c4ccccc4c3C[C@H](C(=O)OC)N2C(=O)CCl)cc1'\n",
    "\n",
    "from rdkit import Chem\n",
    "mol_rsl3=Chem.MolFromSmiles(smiles_rsl3)\n",
    "\n",
    "#rsname = mol_rsl3.GetProp(\"Name\")\n",
    "rsmw = Descriptors.MolWt(mol_rsl3)\n",
    "rslogp = Descriptors.MolLogP(mol_rsl3)\n",
    "rsnum_hbd = Descriptors.NumHDonors(mol_rsl3)\n",
    "rsnum_hba = Descriptors.NumHAcceptors(mol_rsl3)\n",
    "rspsa = Descriptors.TPSA(mol_rsl3)\n",
    "\n",
    "#print(f'Name: {rsname}')\n",
    "print(f'Molecular weight: {rsmw}')\n",
    "print(f'LogP: {rslogp}')\n",
    "print(f'H-bond donor: {rsnum_hbd}')\n",
    "print(f'H-bond acceptor: {rsnum_hba}')\n",
    "print(f'Polar surface area: {rspsa}')\n",
    "\n",
    "mol_rsl3"
   ]
  },
  {
   "cell_type": "code",
   "execution_count": 86,
   "metadata": {},
   "outputs": [
    {
     "name": "stdout",
     "output_type": "stream",
     "text": [
      "**Bold text**\n",
      "Molecular weight: 477.4130000000001\n",
      "LogP: 5.082100000000004\n",
      "H-bond donor: 1\n",
      "H-bond acceptor: 4\n",
      "Polar surface area: 58.64\n"
     ]
    },
    {
     "data": {
      "image/png": "[encoded data removed]",
      "text/plain": [
       "<rdkit.Chem.rdchem.Mol at 0x7fb08c045780>"
      ]
     },
     "execution_count": 86,
     "metadata": {},
     "output_type": "execute_result"
    }
   ],
   "source": [
    "print('ML162')\n",
    "smiles_ml162 = 'COc1ccc(N(C(=O)CCl)C(C(=O)NCCc2ccccc2)c2cccs2)cc1Cl'\n",
    "\n",
    "from rdkit import Chem\n",
    "mol_ml162=Chem.MolFromSmiles(smiles_ml162)\n",
    "\n",
    "ml162mw = Descriptors.MolWt(mol_ml162)\n",
    "ml162logp = Descriptors.MolLogP(mol_ml162)\n",
    "ml162num_hbd = Descriptors.NumHDonors(mol_ml162)\n",
    "ml162num_hba = Descriptors.NumHAcceptors(mol_ml162)\n",
    "ml162psa = Descriptors.TPSA(mol_ml162)\n",
    "\n",
    "print(f'Molecular weight: {ml162mw}')\n",
    "print(f'LogP: {ml162logp}')\n",
    "print(f'H-bond donor: {ml162num_hbd}')\n",
    "print(f'H-bond acceptor: {ml162num_hba}')\n",
    "print(f'Polar surface area: {ml162psa}')\n",
    "\n",
    "mol_ml162"
   ]
  }
 ],
 "metadata": {
  "kernelspec": {
   "display_name": "tfm",
   "language": "python",
   "name": "python3"
  },
  "language_info": {
   "codemirror_mode": {
    "name": "ipython",
    "version": 3
   },
   "file_extension": ".py",
   "mimetype": "text/x-python",
   "name": "python",
   "nbconvert_exporter": "python",
   "pygments_lexer": "ipython3",
   "version": "3.10.11"
  },
  "orig_nbformat": 4,
  "vscode": {
   "interpreter": {
    "hash": "14be8c6cb523b67fce4e72aa06dac016d7ee512de889c7e4e8a342b0dd502dda"
   }
  }
 },
 "nbformat": 4,
 "nbformat_minor": 2
}
